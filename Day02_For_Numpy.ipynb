{
  "nbformat": 4,
  "nbformat_minor": 0,
  "metadata": {
    "colab": {
      "name": "Day02 For Numpy.ipynb",
      "provenance": [],
      "authorship_tag": "ABX9TyMxbAe+yjFyB/Hck2UgwLIF"
    },
    "kernelspec": {
      "name": "python3",
      "display_name": "Python 3"
    },
    "language_info": {
      "name": "python"
    }
  },
  "cells": [
    {
      "cell_type": "code",
      "metadata": {
        "id": "VuRE7nGIJZUU"
      },
      "source": [
        ""
      ],
      "execution_count": null,
      "outputs": []
    },
    {
      "cell_type": "markdown",
      "metadata": {
        "id": "db9aHkDLJdgh"
      },
      "source": [
        "Today Practice for Numpy\n"
      ]
    },
    {
      "cell_type": "code",
      "metadata": {
        "colab": {
          "base_uri": "https://localhost:8080/"
        },
        "id": "mWvADglZJml-",
        "outputId": "0007e101-e80e-4941-abb4-6df1fe1823ef"
      },
      "source": [
        "!pip install numpy"
      ],
      "execution_count": null,
      "outputs": [
        {
          "output_type": "stream",
          "text": [
            "Requirement already satisfied: numpy in /usr/local/lib/python3.7/dist-packages (1.19.5)\n"
          ],
          "name": "stdout"
        }
      ]
    },
    {
      "cell_type": "code",
      "metadata": {
        "id": "Z98DNHst6xby"
      },
      "source": [
        "import numpy as np\n"
      ],
      "execution_count": null,
      "outputs": []
    },
    {
      "cell_type": "code",
      "metadata": {
        "id": "73BQC0_q636J"
      },
      "source": [
        "from time import process_time"
      ],
      "execution_count": null,
      "outputs": []
    },
    {
      "cell_type": "code",
      "metadata": {
        "colab": {
          "base_uri": "https://localhost:8080/"
        },
        "id": "BwQrgI7O_gHw",
        "outputId": "a0329fcd-8be4-4013-a8cb-f4e9586e39ea"
      },
      "source": [
        "python_list=[i for i in range(10000)]\n",
        "start_time= process_time()\n",
        "python_list=[i+2 for i in python_list]\n",
        "end_time=process_time()\n",
        "\n",
        "print(end_time - start_time)"
      ],
      "execution_count": null,
      "outputs": [
        {
          "output_type": "stream",
          "text": [
            "0.001083419999999613\n"
          ],
          "name": "stdout"
        }
      ]
    },
    {
      "cell_type": "code",
      "metadata": {
        "colab": {
          "base_uri": "https://localhost:8080/"
        },
        "id": "Tn0SHtGZBE3D",
        "outputId": "4771c312-26a1-4cd2-c887-b16d4bd382ce"
      },
      "source": [
        "np_array=np.array([i for i in range(10000)])\n",
        "start_time= process_time()\n",
        "np_array+=2\n",
        "end_time=process_time()\n",
        "\n",
        "print(end_time - start_time)\n",
        "\n"
      ],
      "execution_count": null,
      "outputs": [
        {
          "output_type": "stream",
          "text": [
            "0.000378523000000186\n"
          ],
          "name": "stdout"
        }
      ]
    },
    {
      "cell_type": "code",
      "metadata": {
        "id": "kMQLWd2VCZ28",
        "colab": {
          "base_uri": "https://localhost:8080/"
        },
        "outputId": "34929986-6c1a-4e23-b944-23f2c856714e"
      },
      "source": [
        "np_array=np.array([1,2,3,4,5,6,])\n",
        "print(np_array)\n",
        "type(np_array)"
      ],
      "execution_count": null,
      "outputs": [
        {
          "output_type": "stream",
          "text": [
            "[1 2 3 4 5 6]\n"
          ],
          "name": "stdout"
        },
        {
          "output_type": "execute_result",
          "data": {
            "text/plain": [
              "numpy.ndarray"
            ]
          },
          "metadata": {
            "tags": []
          },
          "execution_count": 5
        }
      ]
    },
    {
      "cell_type": "code",
      "metadata": {
        "colab": {
          "base_uri": "https://localhost:8080/"
        },
        "id": "VAyc7nJNJM6f",
        "outputId": "cb868a48-6e8c-4bc0-d0b0-22d03c89aae3"
      },
      "source": [
        "np_array.shape"
      ],
      "execution_count": null,
      "outputs": [
        {
          "output_type": "execute_result",
          "data": {
            "text/plain": [
              "(6,)"
            ]
          },
          "metadata": {
            "tags": []
          },
          "execution_count": 6
        }
      ]
    },
    {
      "cell_type": "code",
      "metadata": {
        "colab": {
          "base_uri": "https://localhost:8080/"
        },
        "id": "NRyDdgYyKLk0",
        "outputId": "36fc0da6-0c72-426c-f610-1a08c8160521"
      },
      "source": [
        "a=np.array([(1,2,3,4,5),(6,7,8,9,10)])\n",
        "print(a)\n",
        "type(a)\n"
      ],
      "execution_count": null,
      "outputs": [
        {
          "output_type": "stream",
          "text": [
            "[[ 1  2  3  4  5]\n",
            " [ 6  7  8  9 10]]\n"
          ],
          "name": "stdout"
        },
        {
          "output_type": "execute_result",
          "data": {
            "text/plain": [
              "numpy.ndarray"
            ]
          },
          "metadata": {
            "tags": []
          },
          "execution_count": 8
        }
      ]
    },
    {
      "cell_type": "code",
      "metadata": {
        "colab": {
          "base_uri": "https://localhost:8080/"
        },
        "id": "CbWiMhyCKjUS",
        "outputId": "f1182344-9654-446f-d9f7-646d31449f3c"
      },
      "source": [
        "a.shape"
      ],
      "execution_count": null,
      "outputs": [
        {
          "output_type": "execute_result",
          "data": {
            "text/plain": [
              "(2, 5)"
            ]
          },
          "metadata": {
            "tags": []
          },
          "execution_count": 9
        }
      ]
    },
    {
      "cell_type": "code",
      "metadata": {
        "colab": {
          "base_uri": "https://localhost:8080/"
        },
        "id": "Qh3PwjhnKxAk",
        "outputId": "5a4ba49d-2caa-4df8-8fe1-7d7d3c089f3b"
      },
      "source": [
        "b=np.array([(1,2,3,4,5),(6,7,8,9,10)],dtype=float)\n",
        "print(b)\n"
      ],
      "execution_count": null,
      "outputs": [
        {
          "output_type": "stream",
          "text": [
            "[[ 1.  2.  3.  4.  5.]\n",
            " [ 6.  7.  8.  9. 10.]]\n"
          ],
          "name": "stdout"
        }
      ]
    },
    {
      "cell_type": "code",
      "metadata": {
        "colab": {
          "base_uri": "https://localhost:8080/"
        },
        "id": "Lk5IrDunLThG",
        "outputId": "d405ecb7-78e1-48ab-aa64-9a45129fbad7"
      },
      "source": [
        "x=np.zeros((4,5))\n",
        "print(x)"
      ],
      "execution_count": null,
      "outputs": [
        {
          "output_type": "stream",
          "text": [
            "[[0. 0. 0. 0. 0.]\n",
            " [0. 0. 0. 0. 0.]\n",
            " [0. 0. 0. 0. 0.]\n",
            " [0. 0. 0. 0. 0.]]\n"
          ],
          "name": "stdout"
        }
      ]
    },
    {
      "cell_type": "code",
      "metadata": {
        "colab": {
          "base_uri": "https://localhost:8080/"
        },
        "id": "d_nymjHYMq4n",
        "outputId": "cf02e6b0-a5a0-4eee-b97c-701484a35990"
      },
      "source": [
        "p=np.full((5,5),5)\n",
        "print(p)"
      ],
      "execution_count": null,
      "outputs": [
        {
          "output_type": "stream",
          "text": [
            "[[5 5 5 5 5]\n",
            " [5 5 5 5 5]\n",
            " [5 5 5 5 5]\n",
            " [5 5 5 5 5]\n",
            " [5 5 5 5 5]]\n"
          ],
          "name": "stdout"
        }
      ]
    },
    {
      "cell_type": "code",
      "metadata": {
        "colab": {
          "base_uri": "https://localhost:8080/"
        },
        "id": "XI6otSy-NDz9",
        "outputId": "e3912096-5584-4f8d-cbe7-8a0b8ec033d9"
      },
      "source": [
        "a=np.eye(5)\n",
        "print(a)"
      ],
      "execution_count": null,
      "outputs": [
        {
          "output_type": "stream",
          "text": [
            "[[1. 0. 0. 0. 0.]\n",
            " [0. 1. 0. 0. 0.]\n",
            " [0. 0. 1. 0. 0.]\n",
            " [0. 0. 0. 1. 0.]\n",
            " [0. 0. 0. 0. 1.]]\n"
          ],
          "name": "stdout"
        }
      ]
    },
    {
      "cell_type": "code",
      "metadata": {
        "colab": {
          "base_uri": "https://localhost:8080/"
        },
        "id": "uENs6sePP0Wl",
        "outputId": "6b7b82a6-bc4b-4b81-8a58-2d51cd33817a"
      },
      "source": [
        "a=np.random.random((3,4))\n",
        "print(a)"
      ],
      "execution_count": null,
      "outputs": [
        {
          "output_type": "stream",
          "text": [
            "[[0.18594177 0.83638525 0.85158649 0.27791503]\n",
            " [0.36539669 0.97029008 0.11346472 0.13569547]\n",
            " [0.47379692 0.24785125 0.74897594 0.88219786]]\n"
          ],
          "name": "stdout"
        }
      ]
    },
    {
      "cell_type": "code",
      "metadata": {
        "colab": {
          "base_uri": "https://localhost:8080/"
        },
        "id": "_hASHv5hQG2I",
        "outputId": "fca68027-3232-4a0f-bf51-7b2650811e80"
      },
      "source": [
        "ap=np.random.randint(10,100,(6,6))\n",
        "print(ap)\n",
        "\n",
        "aa=np.random.randint(10,100,(6,6))\n",
        "print(aa)"
      ],
      "execution_count": null,
      "outputs": [
        {
          "output_type": "stream",
          "text": [
            "[[73 88 55 28 99 89]\n",
            " [24 51 65 32 55 47]\n",
            " [21 82 25 60 77 45]\n",
            " [10 88 90 43 75 12]\n",
            " [55 91 65 54 52 55]\n",
            " [36 64 84 23 53 73]]\n",
            "[[59 44 26 27 62 43]\n",
            " [77 53 30 83 78 98]\n",
            " [36 73 41 87 38 94]\n",
            " [87 93 88 66 66 47]\n",
            " [52 34 26 69 53 61]\n",
            " [64 91 45 62 85 11]]\n"
          ],
          "name": "stdout"
        }
      ]
    },
    {
      "cell_type": "code",
      "metadata": {
        "colab": {
          "base_uri": "https://localhost:8080/"
        },
        "id": "jqWbWpWnQuOh",
        "outputId": "f139073a-6ebd-4fa1-aab9-f759bc948ce4"
      },
      "source": [
        "z=np.linspace(10,50,5)\n",
        "print(z)"
      ],
      "execution_count": null,
      "outputs": [
        {
          "output_type": "stream",
          "text": [
            "[10. 20. 30. 40. 50.]\n"
          ],
          "name": "stdout"
        }
      ]
    },
    {
      "cell_type": "code",
      "metadata": {
        "colab": {
          "base_uri": "https://localhost:8080/"
        },
        "id": "GTzkN9kcR7cP",
        "outputId": "52ede9c4-b6f1-4e73-8479-2e2ac8f3291a"
      },
      "source": [
        "z=np.arange(10,100,5)\n",
        "print(z)"
      ],
      "execution_count": null,
      "outputs": [
        {
          "output_type": "stream",
          "text": [
            "[10 15 20 25 30 35 40 45 50 55 60 65 70 75 80 85 90 95]\n"
          ],
          "name": "stdout"
        }
      ]
    },
    {
      "cell_type": "code",
      "metadata": {
        "colab": {
          "base_uri": "https://localhost:8080/"
        },
        "id": "bhN2DwHDSgRr",
        "outputId": "ba521952-632f-4ff1-c208-da410bf55e4d"
      },
      "source": [
        "list3=[2,3,4,5,6]\n",
        "np_array=np.asarray(list3)\n",
        "print(np_array)\n",
        "type(np_array)"
      ],
      "execution_count": null,
      "outputs": [
        {
          "output_type": "stream",
          "text": [
            "[2 3 4 5 6]\n"
          ],
          "name": "stdout"
        },
        {
          "output_type": "execute_result",
          "data": {
            "text/plain": [
              "numpy.ndarray"
            ]
          },
          "metadata": {
            "tags": []
          },
          "execution_count": 33
        }
      ]
    },
    {
      "cell_type": "code",
      "metadata": {
        "id": "IsGWBghuTPSI"
      },
      "source": [
        "a=np.random.randint(0,10,(5,5))\n",
        "b=np.random.randint(0,10,(5,5))"
      ],
      "execution_count": null,
      "outputs": []
    },
    {
      "cell_type": "code",
      "metadata": {
        "colab": {
          "base_uri": "https://localhost:8080/"
        },
        "id": "lSXY6OoqVLZJ",
        "outputId": "d924108f-515e-47a4-ab89-7a06bddd0627"
      },
      "source": [
        "print(a)\n",
        "print(b)"
      ],
      "execution_count": null,
      "outputs": [
        {
          "output_type": "stream",
          "text": [
            "[[1 7 5 5 4]\n",
            " [2 2 5 7 7]\n",
            " [8 6 8 1 2]\n",
            " [5 6 4 9 2]\n",
            " [7 2 7 4 5]]\n",
            "[[7 5 6 6 7]\n",
            " [4 7 9 7 2]\n",
            " [6 4 4 3 3]\n",
            " [2 6 8 1 8]\n",
            " [3 1 2 9 3]]\n"
          ],
          "name": "stdout"
        }
      ]
    },
    {
      "cell_type": "code",
      "metadata": {
        "colab": {
          "base_uri": "https://localhost:8080/"
        },
        "cellView": "form",
        "id": "gJRf-9V9VPBz",
        "outputId": "f3d20e10-325b-4fe4-bde4-64df3f299cb6"
      },
      "source": [
        "#@title\n",
        "print(np.add(a,b))\n",
        "print(np.subtract(a,b))\n",
        "print(np.multiply(a,b))\n",
        "print(np.divide(a,b))"
      ],
      "execution_count": null,
      "outputs": [
        {
          "output_type": "stream",
          "text": [
            "[[ 8 12 11 11 11]\n",
            " [ 6  9 14 14  9]\n",
            " [14 10 12  4  5]\n",
            " [ 7 12 12 10 10]\n",
            " [10  3  9 13  8]]\n",
            "[[-6  2 -1 -1 -3]\n",
            " [-2 -5 -4  0  5]\n",
            " [ 2  2  4 -2 -1]\n",
            " [ 3  0 -4  8 -6]\n",
            " [ 4  1  5 -5  2]]\n",
            "[[ 7 35 30 30 28]\n",
            " [ 8 14 45 49 14]\n",
            " [48 24 32  3  6]\n",
            " [10 36 32  9 16]\n",
            " [21  2 14 36 15]]\n",
            "[[0.14285714 1.4        0.83333333 0.83333333 0.57142857]\n",
            " [0.5        0.28571429 0.55555556 1.         3.5       ]\n",
            " [1.33333333 1.5        2.         0.33333333 0.66666667]\n",
            " [2.5        1.         0.5        9.         0.25      ]\n",
            " [2.33333333 2.         3.5        0.44444444 1.66666667]]\n"
          ],
          "name": "stdout"
        }
      ]
    },
    {
      "cell_type": "markdown",
      "metadata": {
        "id": "DIyezjmOXh5W"
      },
      "source": [
        "Array Manupulation\n"
      ]
    },
    {
      "cell_type": "code",
      "metadata": {
        "colab": {
          "base_uri": "https://localhost:8080/"
        },
        "id": "zlh7Rl3FXkQ4",
        "outputId": "a63540af-ebf7-4a55-ee68-779dfebd09d3"
      },
      "source": [
        "array=np.random.randint(10,50,(5,5))\n",
        "print(array)\n",
        "type(array)"
      ],
      "execution_count": null,
      "outputs": [
        {
          "output_type": "stream",
          "text": [
            "[[27 40 15 44 29]\n",
            " [25 26 47 26 16]\n",
            " [15 34 44 46 35]\n",
            " [39 22 21 39 27]\n",
            " [41 21 31 28 47]]\n"
          ],
          "name": "stdout"
        },
        {
          "output_type": "execute_result",
          "data": {
            "text/plain": [
              "numpy.ndarray"
            ]
          },
          "metadata": {
            "tags": []
          },
          "execution_count": 39
        }
      ]
    },
    {
      "cell_type": "code",
      "metadata": {
        "colab": {
          "base_uri": "https://localhost:8080/"
        },
        "id": "gT8vIZohX1O6",
        "outputId": "f49e1326-a475-4d8c-9022-0d9e7e175216"
      },
      "source": [
        "trans1=np.transpose(array)\n",
        "print(trans1)\n",
        "type(trans1)"
      ],
      "execution_count": null,
      "outputs": [
        {
          "output_type": "stream",
          "text": [
            "[[27 25 15 39 41]\n",
            " [40 26 34 22 21]\n",
            " [15 47 44 21 31]\n",
            " [44 26 46 39 28]\n",
            " [29 16 35 27 47]]\n"
          ],
          "name": "stdout"
        },
        {
          "output_type": "execute_result",
          "data": {
            "text/plain": [
              "numpy.ndarray"
            ]
          },
          "metadata": {
            "tags": []
          },
          "execution_count": 40
        }
      ]
    },
    {
      "cell_type": "code",
      "metadata": {
        "colab": {
          "base_uri": "https://localhost:8080/"
        },
        "id": "u1yuf5F6YGH1",
        "outputId": "2892bf2b-d321-4ecd-eae6-97706a785f0f"
      },
      "source": [
        "trans2=array.T\n",
        "print(trans2)\n",
        "type(trans2)"
      ],
      "execution_count": null,
      "outputs": [
        {
          "output_type": "stream",
          "text": [
            "[[27 25 15 39 41]\n",
            " [40 26 34 22 21]\n",
            " [15 47 44 21 31]\n",
            " [44 26 46 39 28]\n",
            " [29 16 35 27 47]]\n"
          ],
          "name": "stdout"
        },
        {
          "output_type": "execute_result",
          "data": {
            "text/plain": [
              "numpy.ndarray"
            ]
          },
          "metadata": {
            "tags": []
          },
          "execution_count": 41
        }
      ]
    },
    {
      "cell_type": "code",
      "metadata": {
        "colab": {
          "base_uri": "https://localhost:8080/"
        },
        "id": "Gx_IPtr4YZO0",
        "outputId": "28fa9147-50cd-4b24-b329-3d135eb92c8f"
      },
      "source": [
        "array1=np.random.randint(10,50,(2,5))\n",
        "print(array1)\n",
        "type(array1)"
      ],
      "execution_count": null,
      "outputs": [
        {
          "output_type": "stream",
          "text": [
            "[[18 22 40 49 19]\n",
            " [38 43 32 39 11]]\n"
          ],
          "name": "stdout"
        },
        {
          "output_type": "execute_result",
          "data": {
            "text/plain": [
              "numpy.ndarray"
            ]
          },
          "metadata": {
            "tags": []
          },
          "execution_count": 45
        }
      ]
    },
    {
      "cell_type": "code",
      "metadata": {
        "colab": {
          "base_uri": "https://localhost:8080/"
        },
        "id": "kwMTzPUtYjHH",
        "outputId": "67f8555c-392c-4159-85c9-d29b29d81056"
      },
      "source": [
        "arra=array1.reshape(5,2)\n",
        "print(arra)"
      ],
      "execution_count": null,
      "outputs": [
        {
          "output_type": "stream",
          "text": [
            "[[18 22]\n",
            " [40 49]\n",
            " [19 38]\n",
            " [43 32]\n",
            " [39 11]]\n"
          ],
          "name": "stdout"
        }
      ]
    },
    {
      "cell_type": "markdown",
      "metadata": {
        "id": "earN-U0L4fuD"
      },
      "source": [
        "#Special Function"
      ]
    },
    {
      "cell_type": "code",
      "metadata": {
        "id": "m3qkLhsi4nWg"
      },
      "source": [
        "import numpy as np"
      ],
      "execution_count": null,
      "outputs": []
    },
    {
      "cell_type": "code",
      "metadata": {
        "id": "IBc23Xte4u_c"
      },
      "source": [
        "import matplotlib.pyplot as plt"
      ],
      "execution_count": null,
      "outputs": []
    },
    {
      "cell_type": "code",
      "metadata": {
        "colab": {
          "base_uri": "https://localhost:8080/",
          "height": 265
        },
        "id": "Mng1T9vE5CdP",
        "outputId": "510e2990-1195-44e0-bb7b-83fc0a5256d9"
      },
      "source": [
        "x=np.arange(0,5*np.pi,0.3)\n",
        "y=np.tan(x)\n",
        "plt.plot(x,y)\n",
        "plt.show()"
      ],
      "execution_count": null,
      "outputs": [
        {
          "output_type": "display_data",
          "data": {
            "image/png": "[encoded data removed]",
            "text/plain": [
              "<Figure size 432x288 with 1 Axes>"
            ]
          },
          "metadata": {
            "tags": [],
            "needs_background": "light"
          }
        }
      ]
    },
    {
      "cell_type": "code",
      "metadata": {
        "id": "A1Qe3R--5s6Z"
      },
      "source": [
        ""
      ],
      "execution_count": null,
      "outputs": []
    }
  ]
}